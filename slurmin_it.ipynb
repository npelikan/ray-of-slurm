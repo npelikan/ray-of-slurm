{
 "cells": [
  {
   "cell_type": "code",
   "execution_count": 4,
   "id": "7a09353e-adaa-46c2-853f-e0fc0eb4e1a9",
   "metadata": {
    "tags": []
   },
   "outputs": [],
   "source": [
    "import datetime\n",
    "from ray_of_slurm import RayCluster\n",
    "\n",
    "cluster = RayCluster(\n",
    "    cpus_per_task=4,\n",
    "    ntasks_per_node=1,\n",
    "    nodes=2,\n",
    "    job_name=\"notebookslurm\",\n",
    "    account=\"nickp\",\n",
    "    time=datetime.timedelta(minutes=10)\n",
    ")\n"
   ]
  },
  {
   "cell_type": "code",
   "execution_count": 5,
   "id": "1cced9c1-87bc-4c98-b076-740dd3ee91e2",
   "metadata": {
    "tags": []
   },
   "outputs": [
    {
     "ename": "TypeError",
     "evalue": "Slurm.srun() got an unexpected keyword argument 'shell'",
     "output_type": "error",
     "traceback": [
      "\u001b[0;31m---------------------------------------------------------------------------\u001b[0m",
      "\u001b[0;31mTypeError\u001b[0m                                 Traceback (most recent call last)",
      "Cell \u001b[0;32mIn[5], line 1\u001b[0m\n\u001b[0;32m----> 1\u001b[0m \u001b[43mcluster\u001b[49m\u001b[38;5;241;43m.\u001b[39;49m\u001b[43msrun\u001b[49m\u001b[43m(\u001b[49m\u001b[38;5;124;43m\"\u001b[39;49m\u001b[38;5;124;43mpython minimal_ray.py\u001b[39;49m\u001b[38;5;124;43m\"\u001b[39;49m\u001b[43m,\u001b[49m\u001b[43m \u001b[49m\u001b[43mshell\u001b[49m\u001b[38;5;241;43m=\u001b[39;49m\u001b[38;5;124;43m\"\u001b[39;49m\u001b[38;5;124;43m/bin/bash\u001b[39;49m\u001b[38;5;124;43m\"\u001b[39;49m\u001b[43m)\u001b[49m\n",
      "\u001b[0;31mTypeError\u001b[0m: Slurm.srun() got an unexpected keyword argument 'shell'"
     ]
    }
   ],
   "source": [
    "cluster.sbatch(\"python minimal_ray.py\", shell=\"/bin/bash\")"
   ]
  },
  {
   "cell_type": "code",
   "execution_count": 3,
   "id": "be71f362-a7c3-499a-abc4-83c46aa66f42",
   "metadata": {
    "tags": []
   },
   "outputs": [
    {
     "name": "stdout",
     "output_type": "stream",
     "text": [
      "#!/bin/sh\n",
      "\n",
      "#SBATCH --account             nickp\n",
      "#SBATCH --cpus-per-task       4\n",
      "#SBATCH --job-name            notebookslurm\n",
      "#SBATCH --nodes               2\n",
      "#SBATCH --ntasks-per-node     1\n",
      "#SBATCH --time                0-00:10:00\n",
      "\n",
      "source /home/posit0002/ray-of-slurm/.venv/bin/activate\n",
      "echo \\$pwd\n",
      "head_node=\\$(hostname)\n",
      "head_node_ip=\\$(hostname --ip-address)\n",
      "if [[ \"\\$head_node_ip\" == *\" \"* ]]; then\n",
      "IFS=' ' read -ra ADDR <<<\"\\$head_node_ip\"\n",
      "if [[ \\${#ADDR[0]} -gt 16 ]]; then\n",
      "head_node_ip=\\${ADDR[1]}\n",
      "else\n",
      "head_node_ip=\\${ADDR[0]}\n",
      "fi\n",
      "fi\n",
      "port=6379\n",
      "echo \"STARTING HEAD at \\$head_node\"\n",
      "echo \"Head node IP: \\$head_node_ip\"\n",
      "srun --nodes=1 --ntasks=1 -w \\$head_node start_head.sh \\$head_node_ip &\n",
      "sleep 10\n",
      "worker_num=\\$((\\$SLURM_JOB_NUM_NODES - 1))\n",
      "srun -n \\$worker_num --nodes=\\$worker_num --ntasks-per-node=1 --exclude \\$head_node start_worker.sh \\$head_node_ip:\\$port &\n",
      "sleep 5\n",
      "python minimal_ray.py\n",
      "\n"
     ]
    }
   ],
   "source": [
    "print(cluster.script())"
   ]
  },
  {
   "cell_type": "code",
   "execution_count": 6,
   "id": "096ee695-76c1-4ca7-a65f-238dc88520b7",
   "metadata": {
    "tags": []
   },
   "outputs": [
    {
     "name": "stderr",
     "output_type": "stream",
     "text": [
      "Traceback (most recent call last):\n",
      "  File \"/home/posit0002/ray-of-slurm/minimal_ray.py\", line 6, in <module>\n",
      "Traceback (most recent call last):\n",
      "  File \"/home/posit0002/ray-of-slurm/minimal_ray.py\", line 6, in <module>\n",
      "srun: error: all-dy-rstudio-5: task 0: Exited with exit code 1\n",
      "srun: error: all-dy-rstudio-6: task 1: Exited with exit code 1\n",
      "    import ray\n",
      "ModuleNotFoundError: No module named 'ray'\n",
      "    import ray\n",
      "ModuleNotFoundError: No module named 'ray'\n"
     ]
    },
    {
     "ename": "CalledProcessError",
     "evalue": "Command 'srun --account=nickp --cpus-per-task=4 --job-name=notebookslurm --nodes=2 --ntasks-per-node=1 --time=0-00:10:00 python minimal_ray.py' returned non-zero exit status 1.",
     "output_type": "error",
     "traceback": [
      "\u001b[0;31m---------------------------------------------------------------------------\u001b[0m",
      "\u001b[0;31mCalledProcessError\u001b[0m                        Traceback (most recent call last)",
      "Cell \u001b[0;32mIn[6], line 1\u001b[0m\n\u001b[0;32m----> 1\u001b[0m \u001b[43mcluster\u001b[49m\u001b[38;5;241;43m.\u001b[39;49m\u001b[43msrun\u001b[49m\u001b[43m(\u001b[49m\u001b[38;5;124;43m\"\u001b[39;49m\u001b[38;5;124;43mpython minimal_ray.py\u001b[39;49m\u001b[38;5;124;43m\"\u001b[39;49m\u001b[43m)\u001b[49m\n",
      "File \u001b[0;32m~/ray-of-slurm/.venv/lib/python3.11/site-packages/simple_slurm/core.py:130\u001b[0m, in \u001b[0;36mSlurm.srun\u001b[0;34m(self, run_cmd, srun_cmd)\u001b[0m\n\u001b[1;32m    124\u001b[0m args \u001b[38;5;241m=\u001b[39m (\n\u001b[1;32m    125\u001b[0m     \u001b[38;5;124mf\u001b[39m\u001b[38;5;124m'\u001b[39m\u001b[38;5;124m--\u001b[39m\u001b[38;5;132;01m{\u001b[39;00m\u001b[38;5;28mself\u001b[39m\u001b[38;5;241m.\u001b[39m_valid_key(k)\u001b[38;5;132;01m}\u001b[39;00m\u001b[38;5;124m'\u001b[39m \u001b[38;5;241m+\u001b[39m \u001b[38;5;124mf\u001b[39m\u001b[38;5;124m'\u001b[39m\u001b[38;5;124m=\u001b[39m\u001b[38;5;132;01m{\u001b[39;00mv\u001b[38;5;132;01m}\u001b[39;00m\u001b[38;5;124m'\u001b[39m \u001b[38;5;28;01mif\u001b[39;00m \u001b[38;5;28mlen\u001b[39m(v) \u001b[38;5;28;01melse\u001b[39;00m \u001b[38;5;124m'\u001b[39m\u001b[38;5;124m'\u001b[39m\n\u001b[1;32m    126\u001b[0m     \u001b[38;5;28;01mfor\u001b[39;00m k, v \u001b[38;5;129;01min\u001b[39;00m \u001b[38;5;28mvars\u001b[39m(\u001b[38;5;28mself\u001b[39m\u001b[38;5;241m.\u001b[39mnamespace)\u001b[38;5;241m.\u001b[39mitems() \u001b[38;5;28;01mif\u001b[39;00m v \u001b[38;5;129;01mis\u001b[39;00m \u001b[38;5;129;01mnot\u001b[39;00m \u001b[38;5;28;01mNone\u001b[39;00m\n\u001b[1;32m    127\u001b[0m )\n\u001b[1;32m    128\u001b[0m cmd \u001b[38;5;241m=\u001b[39m \u001b[38;5;124m'\u001b[39m\u001b[38;5;124m \u001b[39m\u001b[38;5;124m'\u001b[39m\u001b[38;5;241m.\u001b[39mjoin((srun_cmd, \u001b[38;5;241m*\u001b[39margs, run_cmd))\n\u001b[0;32m--> 130\u001b[0m result \u001b[38;5;241m=\u001b[39m \u001b[43msubprocess\u001b[49m\u001b[38;5;241;43m.\u001b[39;49m\u001b[43mrun\u001b[49m\u001b[43m(\u001b[49m\u001b[43mcmd\u001b[49m\u001b[43m,\u001b[49m\u001b[43m \u001b[49m\u001b[43mshell\u001b[49m\u001b[38;5;241;43m=\u001b[39;49m\u001b[38;5;28;43;01mTrue\u001b[39;49;00m\u001b[43m,\u001b[49m\u001b[43m \u001b[49m\u001b[43mcheck\u001b[49m\u001b[38;5;241;43m=\u001b[39;49m\u001b[38;5;28;43;01mTrue\u001b[39;49;00m\u001b[43m)\u001b[49m\n\u001b[1;32m    131\u001b[0m \u001b[38;5;28;01mreturn\u001b[39;00m result\u001b[38;5;241m.\u001b[39mreturncode\n",
      "File \u001b[0;32m/opt/python/3.11.6/lib/python3.11/subprocess.py:571\u001b[0m, in \u001b[0;36mrun\u001b[0;34m(input, capture_output, timeout, check, *popenargs, **kwargs)\u001b[0m\n\u001b[1;32m    569\u001b[0m     retcode \u001b[38;5;241m=\u001b[39m process\u001b[38;5;241m.\u001b[39mpoll()\n\u001b[1;32m    570\u001b[0m     \u001b[38;5;28;01mif\u001b[39;00m check \u001b[38;5;129;01mand\u001b[39;00m retcode:\n\u001b[0;32m--> 571\u001b[0m         \u001b[38;5;28;01mraise\u001b[39;00m CalledProcessError(retcode, process\u001b[38;5;241m.\u001b[39margs,\n\u001b[1;32m    572\u001b[0m                                  output\u001b[38;5;241m=\u001b[39mstdout, stderr\u001b[38;5;241m=\u001b[39mstderr)\n\u001b[1;32m    573\u001b[0m \u001b[38;5;28;01mreturn\u001b[39;00m CompletedProcess(process\u001b[38;5;241m.\u001b[39margs, retcode, stdout, stderr)\n",
      "\u001b[0;31mCalledProcessError\u001b[0m: Command 'srun --account=nickp --cpus-per-task=4 --job-name=notebookslurm --nodes=2 --ntasks-per-node=1 --time=0-00:10:00 python minimal_ray.py' returned non-zero exit status 1."
     ]
    }
   ],
   "source": [
    "cluster.srun(\"python minimal_ray.py\")"
   ]
  },
  {
   "cell_type": "code",
   "execution_count": null,
   "id": "1fdac6fa-3f5d-4475-b524-fb9bda7af7e3",
   "metadata": {},
   "outputs": [],
   "source": []
  }
 ],
 "metadata": {
  "kernelspec": {
   "display_name": "rayofslurm",
   "language": "python",
   "name": "rayofslurm"
  },
  "language_info": {
   "codemirror_mode": {
    "name": "ipython",
    "version": 3
   },
   "file_extension": ".py",
   "mimetype": "text/x-python",
   "name": "python",
   "nbconvert_exporter": "python",
   "pygments_lexer": "ipython3",
   "version": "3.11.6"
  }
 },
 "nbformat": 4,
 "nbformat_minor": 5
}
